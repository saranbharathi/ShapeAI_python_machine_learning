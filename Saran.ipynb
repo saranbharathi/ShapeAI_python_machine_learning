{
  "nbformat": 4,
  "nbformat_minor": 0,
  "metadata": {
    "colab": {
      "name": "Saran.ipynb",
      "provenance": [],
      "collapsed_sections": []
    },
    "kernelspec": {
      "name": "python3",
      "display_name": "Python 3"
    },
    "language_info": {
      "name": "python"
    }
  },
  "cells": [
    {
      "cell_type": "markdown",
      "metadata": {
        "id": "wAbMUTiJbkZV"
      },
      "source": [
        "Importing the  libraries"
      ]
    },
    {
      "cell_type": "code",
      "metadata": {
        "id": "qT_fV4RtcC0P"
      },
      "source": [
        "import numpy as np\n",
        "import pandas as pd\n",
        "import sklearn"
      ],
      "execution_count": null,
      "outputs": []
    },
    {
      "cell_type": "markdown",
      "metadata": {
        "id": "b8zh7RBjcKwT"
      },
      "source": [
        "we are usinng boston house pricing dataset which is  available int the sklearn library itself."
      ]
    },
    {
      "cell_type": "code",
      "metadata": {
        "id": "_g_ntAlIdhWd"
      },
      "source": [
        "from sklearn.datasets import load_boston\n",
        "df  = load_boston()"
      ],
      "execution_count": null,
      "outputs": []
    },
    {
      "cell_type": "code",
      "metadata": {
        "id": "BPEp6Mp-dwxL"
      },
      "source": [
        "df.keys()   #return all the keys of the dataset "
      ],
      "execution_count": null,
      "outputs": []
    },
    {
      "cell_type": "code",
      "metadata": {
        "id": "-kF4JmNxeHz0"
      },
      "source": [
        "print(df.DESCR)  #info about the dataset"
      ],
      "execution_count": null,
      "outputs": []
    },
    {
      "cell_type": "markdown",
      "metadata": {
        "id": "sDFIvb9rgDYp"
      },
      "source": [
        "Convert dataset into pandas to analyses the data."
      ]
    },
    {
      "cell_type": "code",
      "metadata": {
        "id": "sR6YT7Spzp7T"
      },
      "source": [
        ""
      ],
      "execution_count": null,
      "outputs": []
    },
    {
      "cell_type": "code",
      "metadata": {
        "id": "J6gEyJEugNoh"
      },
      "source": [
        "boston = pd.DataFrame(df.data,columns=df.feature_names)\n",
        "boston.head()"
      ],
      "execution_count": null,
      "outputs": []
    },
    {
      "cell_type": "markdown",
      "metadata": {
        "id": "v0_m7uVNhTt2"
      },
      "source": [
        "adding a new column of target values to the dataframe"
      ]
    },
    {
      "cell_type": "code",
      "metadata": {
        "id": "AH1YbMx8hcdL"
      },
      "source": [
        "boston['MEDV'] = df.target\n",
        "boston.head()"
      ],
      "execution_count": null,
      "outputs": []
    },
    {
      "cell_type": "markdown",
      "metadata": {
        "id": "-KXorjdyiB49"
      },
      "source": [
        "check if the dataset contains any null value or not"
      ]
    },
    {
      "cell_type": "code",
      "metadata": {
        "id": "T6XlGtG6iKS9"
      },
      "source": [
        "boston.isnull()"
      ],
      "execution_count": null,
      "outputs": []
    },
    {
      "cell_type": "markdown",
      "metadata": {
        "id": "96_DJqyPimEK"
      },
      "source": [
        "sum()Function to count all the Null values"
      ]
    },
    {
      "cell_type": "code",
      "metadata": {
        "id": "50szmKCair5T"
      },
      "source": [
        "boston.isnull().sum()"
      ],
      "execution_count": null,
      "outputs": []
    },
    {
      "cell_type": "markdown",
      "metadata": {
        "id": "tntHraEUjaYc"
      },
      "source": [
        "Test the dataset ,which is different from training dataset"
      ]
    },
    {
      "cell_type": "code",
      "metadata": {
        "id": "h38Dw1JcjsyA"
      },
      "source": [
        "from sklearn.model_selection import train_test_split\n",
        "X= boston.drop('MEDV' ,axis=1)\n",
        "Y=boston['MEDV']\n",
        "X_train,X_test,Y_train,Y_test = train_test_split(X,Y,test_size = 0.15,random_state=5)\n",
        "print(X_train.shape)\n",
        "print(X_test.shape)\n",
        "print(Y_train.shape)\n",
        "print(Y_test.shape)"
      ],
      "execution_count": null,
      "outputs": []
    },
    {
      "cell_type": "markdown",
      "metadata": {
        "id": "Y8qyS4NGmibR"
      },
      "source": [
        "import the linear regression model from sklearn and train it on the training dataset"
      ]
    },
    {
      "cell_type": "code",
      "metadata": {
        "id": "ZQPRG5qzmsAK"
      },
      "source": [
        "from sklearn.linear_model import LinearRegression\n",
        "from sklearn.metrics import mean_squared_error\n"
      ],
      "execution_count": null,
      "outputs": []
    },
    {
      "cell_type": "markdown",
      "metadata": {
        "id": "kZz4C9H5nKuc"
      },
      "source": [
        "**Fitting model on the training dataset**"
      ]
    },
    {
      "cell_type": "code",
      "metadata": {
        "colab": {
          "base_uri": "https://localhost:8080/"
        },
        "id": "qRJ_wgUjnSAE",
        "outputId": "5e98b765-e3d3-4094-80f5-47ac6a8f83f8"
      },
      "source": [
        "lin_model = LinearRegression()\n",
        "lin_model.fit(X_train,Y_train)"
      ],
      "execution_count": null,
      "outputs": [
        {
          "output_type": "execute_result",
          "data": {
            "text/plain": [
              "LinearRegression(copy_X=True, fit_intercept=True, n_jobs=None, normalize=False)"
            ]
          },
          "metadata": {
            "tags": []
          },
          "execution_count": 20
        }
      ]
    },
    {
      "cell_type": "code",
      "metadata": {
        "colab": {
          "base_uri": "https://localhost:8080/"
        },
        "id": "sL0Jo181njum",
        "outputId": "ccdf468d-c393-4c8f-f059-5ff14ebe17ea"
      },
      "source": [
        "y_train_predict = lin_model.predict(X_train)\n",
        "rmse = (np.sqrt(mean_squared_error(Y_train,y_train_predict)))\n",
        "\n",
        "print(\"the model performance for training set\")\n",
        "print('RMSE is {}'.format(rmse))\n",
        "print(\"\\n\")\n",
        "\n",
        "y_test_predict = lin_model.predict(X_test)\n",
        "rmse = (np.sqrt(mean_squared_error(Y_test,y_test_predict)))\n",
        "\n",
        "print(\"the model performance for testing set\")\n",
        "print('RMSE is {}'.format(rmse))\n"
      ],
      "execution_count": null,
      "outputs": [
        {
          "output_type": "stream",
          "text": [
            "the model performance for training set\n",
            "RMSE is4.710901797319795\n",
            "\n",
            "\n",
            "the model performance for testing set\n",
            "RMSE is4.687543527902971\n"
          ],
          "name": "stdout"
        }
      ]
    }
  ]
}